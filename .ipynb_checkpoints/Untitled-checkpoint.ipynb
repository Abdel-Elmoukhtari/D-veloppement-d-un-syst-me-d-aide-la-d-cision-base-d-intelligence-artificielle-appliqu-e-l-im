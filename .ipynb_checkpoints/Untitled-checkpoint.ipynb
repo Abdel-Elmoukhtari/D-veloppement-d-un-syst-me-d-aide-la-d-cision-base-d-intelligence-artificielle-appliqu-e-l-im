{
 "cells": [
  {
   "cell_type": "markdown",
   "metadata": {},
   "source": [
    "\n",
    "##    TP_CNN: détection de covid19\n"
   ]
  },
  {
   "cell_type": "raw",
   "metadata": {},
   "source": [
    "Realiser par :EL MOUKHTAR Abdelmalek\n",
    "              MOUDOU Zaineb\n",
    "        Sous la: \n",
    "             direction deProf.Khadija Bouzaachane\n",
    "             le : 18 Mai 2021\n",
    "            Année Universitaire : 2020-2021\n",
    "\n"
   ]
  },
  {
   "cell_type": "raw",
   "metadata": {},
   "source": [
    "Notre objectife  est la classification des images avec les résaux de neurones convolutifs(CNN) et \n",
    "la reconnaissance des personnes atteintes de la maladie Covid-19"
   ]
  },
  {
   "cell_type": "raw",
   "metadata": {},
   "source": [
    "L'apprentissage profond:\n",
    "L'apprentissage profond ( Deep learning ) est un ensemble de techniques d’apprentissage automatique \n",
    "qui a permis des avancées importantes en intelligence artificielle dans les dernières années.\n",
    "L'apprentissage profond est basé sur ce qui a été appelé, par analogie, des « réseaux de neurones artificiels »,\n",
    "composés de milliers d'unités (les neurones) qui effectuent chacune de petites opérations simples. \n",
    "Les résultats d'une première couche de neurones servent d'entrée aux calculs d'une deuxième couche et ainsi de suite.\n",
    "\n",
    "Les réseaux de neurones convolutifs(CNN):\n",
    "un réseau de neurones convolutifs ou réseau de neurones à convolution \n",
    "(en anglais CNN ou ConvNet pour Convolutional Neural Networks) \n",
    "est un type de réseau de neurones artificiels acycliques (feed-forward), \n",
    "dans lequel le motif de connexion entre les neurones est inspiré par le cortex visuel des animaux.\n",
    "Les neurones de cette région du cerveau sont arrangés de sorte \n",
    "qu'ils correspondent à des régions qui se chevauchent lors du pavage du champ visuel. \n",
    "Leur fonctionnement est inspiré par les processus biologiques, \n",
    "ils consistent en un empilage multicouche de perceptrons,\n",
    "dont le but est de prétraiter de petites quantités d'informations. \n",
    "Les réseaux neuronaux convolutifs ont de larges applications dans la reconnaissance \n",
    "d'image et vidéo, les systèmes de recommandation et le traitement du langage naturel.\n",
    "    \n",
    "\n"
   ]
  },
  {
   "cell_type": "markdown",
   "metadata": {},
   "source": [
    " ## étape 1: Explorez l’ensemble de données"
   ]
  },
  {
   "cell_type": "code",
   "execution_count": null,
   "metadata": {},
   "outputs": [],
   "source": [
    "Notre dossier éntrainez contient 2 dossiers représentant chacun une classe différente. La ˙\n",
    "plage du dossier va de 0 a 1. Avec l’aide du module OS, nous parcourons toutes les classes et\n",
    "ajoutons des images et leurs étiquettes respectives dans la liste des données et des étiquettes."
   ]
  },
  {
   "cell_type": "code",
   "execution_count": 16,
   "metadata": {},
   "outputs": [],
   "source": [
    "import numpy as np\n",
    "import matplotlib.pyplot as plt\n",
    "import keras\n",
    "import os\n",
    "import pandas as pd\n",
    "from keras.layers import *\n",
    "from keras.models import * \n",
    "from keras.preprocessing import image"
   ]
  },
  {
   "cell_type": "code",
   "execution_count": 19,
   "metadata": {},
   "outputs": [],
   "source": [
    "train_generate = image.ImageDataGenerator(\n",
    "    rescale = 1./255,\n",
    "    shear_range = 0.2,\n",
    "    zoom_range = 0.2,\n",
    "    horizontal_flip = True,\n",
    ")\n",
    "\n",
    "validation_dataset = image.ImageDataGenerator(rescale=1./255)"
   ]
  },
  {
   "cell_type": "code",
   "execution_count": 3,
   "metadata": {},
   "outputs": [
    {
     "name": "stdout",
     "output_type": "stream",
     "text": [
      "Found 224 images belonging to 2 classes.\n"
     ]
    }
   ],
   "source": [
    "train_data = train_generate.flow_from_directory(\n",
    "    r'C:\\Users\\FSZMLH1998\\Videos\\covidDataset\\Train',\n",
    "    target_size = (224,224),\n",
    "    batch_size = 32,\n",
    "    class_mode = ('binary'))\n"
   ]
  },
  {
   "cell_type": "code",
   "execution_count": 4,
   "metadata": {},
   "outputs": [
    {
     "data": {
      "text/plain": [
       "{'Covid': 0, 'Normal': 1}"
      ]
     },
     "execution_count": 4,
     "metadata": {},
     "output_type": "execute_result"
    }
   ],
   "source": [
    "train_data.class_indices"
   ]
  },
  {
   "cell_type": "code",
   "execution_count": 5,
   "metadata": {},
   "outputs": [
    {
     "name": "stdout",
     "output_type": "stream",
     "text": [
      "Found 60 images belonging to 2 classes.\n"
     ]
    }
   ],
   "source": [
    "val_data = validation_dataset.flow_from_directory(\n",
    "    r'C:\\Users\\FSZMLH1998\\Videos\\covidDataset\\Val',\n",
    "    target_size = (224,224),\n",
    "    batch_size = 32,\n",
    "    class_mode = 'binary')"
   ]
  },
  {
   "cell_type": "code",
   "execution_count": 14,
   "metadata": {
    "scrolled": true
   },
   "outputs": [
    {
     "data": {
      "text/plain": [
       "{'.ipynb_checkpoints': 0, 'covid': 1, 'normal': 2}"
      ]
     },
     "execution_count": 14,
     "metadata": {},
     "output_type": "execute_result"
    }
   ],
   "source": [
    "val_data.class_indices"
   ]
  },
  {
   "cell_type": "markdown",
   "metadata": {},
   "source": [
    "## étape 2: créer un modéle CNN"
   ]
  },
  {
   "cell_type": "raw",
   "metadata": {},
   "source": [
    "Pour classer les images dans leurs catégories respectives, nous allons construire un modéle\n",
    "CNN ( Convolutional Neural Network ). CNN est le meilleur à des fins de classification\n",
    "d’images."
   ]
  },
  {
   "cell_type": "code",
   "execution_count": 6,
   "metadata": {
    "scrolled": true
   },
   "outputs": [],
   "source": [
    "# CNN Based Model in Keras\n",
    "\n",
    "model = Sequential()\n",
    "model.add(Conv2D(32,kernel_size=(3,3),activation='relu',input_shape=(224,224,3)))\n",
    "model.add(Conv2D(64,(3,3),activation='relu'))\n",
    "model.add(MaxPooling2D(pool_size=(2,2)))\n",
    "model.add(Dropout(0.5))\n",
    "\n",
    "model.add(Conv2D(64,(3,3),activation='relu'))\n",
    "model.add(MaxPooling2D(pool_size=(2,2)))\n",
    "model.add(Dropout(0.5))\n",
    "\n",
    "model.add(Conv2D(128,(3,3),activation='relu'))\n",
    "model.add(MaxPooling2D(pool_size=(2,2)))\n",
    "model.add(Dropout(0.5))\n",
    "\n",
    "model.add(Conv2D(256,(3,3),activation='relu'))\n",
    "model.add(MaxPooling2D(pool_size=(2,2)))\n",
    "model.add(Dropout(0.5))\n",
    "\n",
    "model.add(Flatten())\n",
    "model.add(Dense(64,activation='relu'))\n",
    "model.add(Dropout(0.5))\n",
    "model.add(Dense(1,activation='sigmoid'))\n",
    "\n",
    "model.compile(loss=keras.losses.binary_crossentropy,optimizer='adam',metrics=['accuracy'])"
   ]
  },
  {
   "cell_type": "code",
   "execution_count": 7,
   "metadata": {},
   "outputs": [
    {
     "name": "stdout",
     "output_type": "stream",
     "text": [
      "Model: \"sequential_1\"\n",
      "_________________________________________________________________\n",
      "Layer (type)                 Output Shape              Param #   \n",
      "=================================================================\n",
      "conv2d_1 (Conv2D)            (None, 222, 222, 32)      896       \n",
      "_________________________________________________________________\n",
      "conv2d_2 (Conv2D)            (None, 220, 220, 64)      18496     \n",
      "_________________________________________________________________\n",
      "max_pooling2d_1 (MaxPooling2 (None, 110, 110, 64)      0         \n",
      "_________________________________________________________________\n",
      "dropout_1 (Dropout)          (None, 110, 110, 64)      0         \n",
      "_________________________________________________________________\n",
      "conv2d_3 (Conv2D)            (None, 108, 108, 64)      36928     \n",
      "_________________________________________________________________\n",
      "max_pooling2d_2 (MaxPooling2 (None, 54, 54, 64)        0         \n",
      "_________________________________________________________________\n",
      "dropout_2 (Dropout)          (None, 54, 54, 64)        0         \n",
      "_________________________________________________________________\n",
      "conv2d_4 (Conv2D)            (None, 52, 52, 128)       73856     \n",
      "_________________________________________________________________\n",
      "max_pooling2d_3 (MaxPooling2 (None, 26, 26, 128)       0         \n",
      "_________________________________________________________________\n",
      "dropout_3 (Dropout)          (None, 26, 26, 128)       0         \n",
      "_________________________________________________________________\n",
      "conv2d_5 (Conv2D)            (None, 24, 24, 256)       295168    \n",
      "_________________________________________________________________\n",
      "max_pooling2d_4 (MaxPooling2 (None, 12, 12, 256)       0         \n",
      "_________________________________________________________________\n",
      "dropout_4 (Dropout)          (None, 12, 12, 256)       0         \n",
      "_________________________________________________________________\n",
      "flatten_1 (Flatten)          (None, 36864)             0         \n",
      "_________________________________________________________________\n",
      "dense_1 (Dense)              (None, 64)                2359360   \n",
      "_________________________________________________________________\n",
      "dropout_5 (Dropout)          (None, 64)                0         \n",
      "_________________________________________________________________\n",
      "dense_2 (Dense)              (None, 1)                 65        \n",
      "=================================================================\n",
      "Total params: 2,784,769\n",
      "Trainable params: 2,784,769\n",
      "Non-trainable params: 0\n",
      "_________________________________________________________________\n"
     ]
    }
   ],
   "source": [
    "model.summary()"
   ]
  },
  {
   "cell_type": "markdown",
   "metadata": {},
   "source": [
    "## étape 3: Former et valider le modéle"
   ]
  },
  {
   "cell_type": "raw",
   "metadata": {},
   "source": [
    "Après avoir construit l’architecture du modèle, nous entraéonons le modèle à l’aide de modèles.fit (). \n",
    "J’ai essayé avec la taille de lot 32 et 64. Notre modèle fonctionnait mieux avec la taille de lot 64. \n",
    "Et après 15 époques, la précision était stable.\n"
   ]
  },
  {
   "cell_type": "code",
   "execution_count": 8,
   "metadata": {},
   "outputs": [
    {
     "name": "stdout",
     "output_type": "stream",
     "text": [
      "Epoch 1/25\n",
      "8/8 [==============================] - 101s 13s/step - loss: 1.0895 - accuracy: 0.5156 - val_loss: 0.6931 - val_accuracy: 0.5000\n",
      "Epoch 2/25\n",
      "8/8 [==============================] - 120s 15s/step - loss: 0.6845 - accuracy: 0.5781 - val_loss: 0.6924 - val_accuracy: 0.5000\n",
      "Epoch 3/25\n",
      "8/8 [==============================] - 108s 13s/step - loss: 0.6681 - accuracy: 0.5625 - val_loss: 0.6832 - val_accuracy: 0.6667\n",
      "Epoch 4/25\n",
      "8/8 [==============================] - 95s 12s/step - loss: 0.5728 - accuracy: 0.7148 - val_loss: 0.5876 - val_accuracy: 0.9667\n",
      "Epoch 5/25\n",
      "8/8 [==============================] - 114s 14s/step - loss: 0.3719 - accuracy: 0.8359 - val_loss: 0.4831 - val_accuracy: 0.9667\n",
      "Epoch 6/25\n",
      "8/8 [==============================] - 89s 11s/step - loss: 0.2835 - accuracy: 0.8711 - val_loss: 0.2697 - val_accuracy: 0.9833\n",
      "Epoch 7/25\n",
      "8/8 [==============================] - 88s 11s/step - loss: 0.4422 - accuracy: 0.8125 - val_loss: 0.6928 - val_accuracy: 0.5000\n",
      "Epoch 8/25\n",
      "8/8 [==============================] - 84s 10s/step - loss: 0.4218 - accuracy: 0.8594 - val_loss: 0.3017 - val_accuracy: 0.9500\n",
      "Epoch 9/25\n",
      "8/8 [==============================] - 85s 11s/step - loss: 0.3109 - accuracy: 0.8516 - val_loss: 0.4286 - val_accuracy: 0.9833\n",
      "Epoch 10/25\n",
      "8/8 [==============================] - 90s 11s/step - loss: 0.2549 - accuracy: 0.9023 - val_loss: 0.2123 - val_accuracy: 0.9833\n",
      "Epoch 11/25\n",
      "8/8 [==============================] - 88s 11s/step - loss: 0.2106 - accuracy: 0.9258 - val_loss: 0.2875 - val_accuracy: 0.9833\n",
      "Epoch 12/25\n",
      "8/8 [==============================] - 84s 11s/step - loss: 0.2083 - accuracy: 0.9023 - val_loss: 0.5944 - val_accuracy: 0.9333\n",
      "Epoch 13/25\n",
      "8/8 [==============================] - 77s 10s/step - loss: 0.2077 - accuracy: 0.9375 - val_loss: 0.1306 - val_accuracy: 0.9833\n",
      "Epoch 14/25\n",
      "8/8 [==============================] - 86s 11s/step - loss: 0.2494 - accuracy: 0.9023 - val_loss: 0.2787 - val_accuracy: 1.0000\n",
      "Epoch 15/25\n",
      "8/8 [==============================] - 81s 10s/step - loss: 0.1681 - accuracy: 0.9492 - val_loss: 0.1139 - val_accuracy: 0.9833\n",
      "Epoch 16/25\n",
      "8/8 [==============================] - 84s 10s/step - loss: 0.1563 - accuracy: 0.9180 - val_loss: 0.1277 - val_accuracy: 0.9833\n",
      "Epoch 17/25\n",
      "8/8 [==============================] - 98s 12s/step - loss: 0.1304 - accuracy: 0.9531 - val_loss: 0.1843 - val_accuracy: 0.9833\n",
      "Epoch 18/25\n",
      "8/8 [==============================] - 89s 11s/step - loss: 0.1455 - accuracy: 0.9492 - val_loss: 0.1231 - val_accuracy: 0.9833\n",
      "Epoch 19/25\n",
      "8/8 [==============================] - 80s 10s/step - loss: 0.1877 - accuracy: 0.9414 - val_loss: 0.1204 - val_accuracy: 0.9833\n",
      "Epoch 20/25\n",
      "8/8 [==============================] - 79s 10s/step - loss: 0.1479 - accuracy: 0.9219 - val_loss: 0.1908 - val_accuracy: 0.9833\n",
      "Epoch 21/25\n",
      "8/8 [==============================] - 88s 11s/step - loss: 0.1757 - accuracy: 0.9219 - val_loss: 0.0996 - val_accuracy: 0.9833\n",
      "Epoch 22/25\n",
      "8/8 [==============================] - 88s 11s/step - loss: 0.1553 - accuracy: 0.9570 - val_loss: 0.0472 - val_accuracy: 1.0000\n",
      "Epoch 23/25\n",
      "8/8 [==============================] - 85s 11s/step - loss: 0.1714 - accuracy: 0.9570 - val_loss: 0.0565 - val_accuracy: 0.9667\n",
      "Epoch 24/25\n",
      "8/8 [==============================] - 88s 11s/step - loss: 0.1104 - accuracy: 0.9648 - val_loss: 0.2596 - val_accuracy: 0.9667\n",
      "Epoch 25/25\n",
      "8/8 [==============================] - 77s 10s/step - loss: 0.1080 - accuracy: 0.9648 - val_loss: 0.0703 - val_accuracy: 0.9833\n"
     ]
    }
   ],
   "source": [
    "history=model.fit_generator(train_data, steps_per_epoch=8, epochs= 25, validation_steps=2, validation_data=val_data)"
   ]
  },
  {
   "cell_type": "raw",
   "metadata": {},
   "source": [
    "Notre modèle a obtenu une précision de 98% sur l’ensemble de données d’entraéonement.\n",
    "Avec matplotlib, nous traégons le graphique pour la précision et la perte."
   ]
  },
  {
   "cell_type": "code",
   "execution_count": 9,
   "metadata": {},
   "outputs": [
    {
     "data": {
      "image/png": "[encoded data removed]",
      "text/plain": [
       "<Figure size 432x288 with 1 Axes>"
      ]
     },
     "metadata": {
      "needs_background": "light"
     },
     "output_type": "display_data"
    },
    {
     "data": {
      "image/png": "[encoded data removed]",
      "text/plain": [
       "<Figure size 432x288 with 1 Axes>"
      ]
     },
     "metadata": {
      "needs_background": "light"
     },
     "output_type": "display_data"
    }
   ],
   "source": [
    " #plotting graphs for accuracy\n",
    "plt.figure(0) \n",
    "plt.plot(history.history['accuracy'], label='training accuracy') \n",
    "plt.plot(history.history['val_accuracy'], label='val accuracy')\n",
    "plt.title('Accuracy')\n",
    "plt.xlabel('epochs')\n",
    "plt.ylabel('accuracy') \n",
    "plt.legend()\n",
    "plt.show()\n",
    "plt.figure(1)\n",
    "plt.plot(history.history['loss'], label='training loss')\n",
    "plt.plot(history.history['val_loss'], label='val loss') \n",
    "plt.title('Loss') \n",
    "plt.xlabel('epochs') \n",
    "plt.ylabel('loss') \n",
    "plt.legend() \n",
    "plt.show()  "
   ]
  },
  {
   "cell_type": "code",
   "execution_count": 33,
   "metadata": {},
   "outputs": [],
   "source": [
    "model.save('modelCovid19.h5')   "
   ]
  },
  {
   "cell_type": "code",
   "execution_count": 39,
   "metadata": {},
   "outputs": [
    {
     "name": "stdout",
     "output_type": "stream",
     "text": [
      "Covid\n"
     ]
    }
   ],
   "source": [
    "import cv2\n",
    "Category = [\"Covid\",\"Normal\"]\n",
    "def prepare(filepath):\n",
    "    IMG_SIZE=224\n",
    "    img_array=cv2.imread(filepath)\n",
    "    new_array=cv2.resize(img_array, (IMG_SIZE,IMG_SIZE),3)\n",
    "    return new_array.reshape(-1,IMG_SIZE,IMG_SIZE,3)\n",
    "prediction=model.predict([prepare(\"f.jpeg\")])#f.jpeg est une image covid\n",
    "print(Category[int(prediction[0][0])])\n"
   ]
  },
  {
   "cell_type": "code",
   "execution_count": 44,
   "metadata": {},
   "outputs": [
    {
     "ename": "TypeError",
     "evalue": "'<' not supported between instances of 'int' and 'DirectoryIterator'",
     "output_type": "error",
     "traceback": [
      "\u001b[1;31m---------------------------------------------------------------------------\u001b[0m",
      "\u001b[1;31mTypeError\u001b[0m                                 Traceback (most recent call last)",
      "\u001b[1;32m<ipython-input-44-8d6dcd7720b8>\u001b[0m in \u001b[0;36m<module>\u001b[1;34m\u001b[0m\n\u001b[0;32m      3\u001b[0m \u001b[0mvalidation_generator\u001b[0m\u001b[1;33m=\u001b[0m\u001b[1;36m2\u001b[0m\u001b[1;33m\u001b[0m\u001b[1;33m\u001b[0m\u001b[0m\n\u001b[0;32m      4\u001b[0m \u001b[0mvalidation_data\u001b[0m\u001b[1;33m=\u001b[0m\u001b[0mval_data\u001b[0m\u001b[1;33m\u001b[0m\u001b[1;33m\u001b[0m\u001b[0m\n\u001b[1;32m----> 5\u001b[1;33m \u001b[0mY_pred\u001b[0m \u001b[1;33m=\u001b[0m \u001b[0mmodel\u001b[0m\u001b[1;33m.\u001b[0m\u001b[0mpredict_generator\u001b[0m\u001b[1;33m(\u001b[0m\u001b[0mvalidation_generator\u001b[0m\u001b[1;33m,\u001b[0m \u001b[0mvalidation_data\u001b[0m \u001b[1;33m)\u001b[0m\u001b[1;33m\u001b[0m\u001b[1;33m\u001b[0m\u001b[0m\n\u001b[0m\u001b[0;32m      6\u001b[0m \u001b[0my_pred\u001b[0m \u001b[1;33m=\u001b[0m \u001b[0mnp\u001b[0m\u001b[1;33m.\u001b[0m\u001b[0margmax\u001b[0m\u001b[1;33m(\u001b[0m\u001b[0mY_pred\u001b[0m\u001b[1;33m,\u001b[0m \u001b[0maxis\u001b[0m\u001b[1;33m=\u001b[0m\u001b[1;36m1\u001b[0m\u001b[1;33m)\u001b[0m\u001b[1;33m\u001b[0m\u001b[1;33m\u001b[0m\u001b[0m\n\u001b[0;32m      7\u001b[0m \u001b[0mprint\u001b[0m\u001b[1;33m(\u001b[0m\u001b[1;34m'Confusion Matrix'\u001b[0m\u001b[1;33m)\u001b[0m\u001b[1;33m\u001b[0m\u001b[1;33m\u001b[0m\u001b[0m\n",
      "\u001b[1;32mC:\\ProgramData\\Anaconda3\\lib\\site-packages\\keras\\legacy\\interfaces.py\u001b[0m in \u001b[0;36mwrapper\u001b[1;34m(*args, **kwargs)\u001b[0m\n\u001b[0;32m     89\u001b[0m                 warnings.warn('Update your `' + object_name + '` call to the ' +\n\u001b[0;32m     90\u001b[0m                               'Keras 2 API: ' + signature, stacklevel=2)\n\u001b[1;32m---> 91\u001b[1;33m             \u001b[1;32mreturn\u001b[0m \u001b[0mfunc\u001b[0m\u001b[1;33m(\u001b[0m\u001b[1;33m*\u001b[0m\u001b[0margs\u001b[0m\u001b[1;33m,\u001b[0m \u001b[1;33m**\u001b[0m\u001b[0mkwargs\u001b[0m\u001b[1;33m)\u001b[0m\u001b[1;33m\u001b[0m\u001b[1;33m\u001b[0m\u001b[0m\n\u001b[0m\u001b[0;32m     92\u001b[0m         \u001b[0mwrapper\u001b[0m\u001b[1;33m.\u001b[0m\u001b[0m_original_function\u001b[0m \u001b[1;33m=\u001b[0m \u001b[0mfunc\u001b[0m\u001b[1;33m\u001b[0m\u001b[1;33m\u001b[0m\u001b[0m\n\u001b[0;32m     93\u001b[0m         \u001b[1;32mreturn\u001b[0m \u001b[0mwrapper\u001b[0m\u001b[1;33m\u001b[0m\u001b[1;33m\u001b[0m\u001b[0m\n",
      "\u001b[1;32mC:\\ProgramData\\Anaconda3\\lib\\site-packages\\keras\\engine\\training.py\u001b[0m in \u001b[0;36mpredict_generator\u001b[1;34m(self, generator, steps, callbacks, max_queue_size, workers, use_multiprocessing, verbose)\u001b[0m\n\u001b[0;32m   1844\u001b[0m             \u001b[0mworkers\u001b[0m\u001b[1;33m=\u001b[0m\u001b[0mworkers\u001b[0m\u001b[1;33m,\u001b[0m\u001b[1;33m\u001b[0m\u001b[1;33m\u001b[0m\u001b[0m\n\u001b[0;32m   1845\u001b[0m             \u001b[0muse_multiprocessing\u001b[0m\u001b[1;33m=\u001b[0m\u001b[0muse_multiprocessing\u001b[0m\u001b[1;33m,\u001b[0m\u001b[1;33m\u001b[0m\u001b[1;33m\u001b[0m\u001b[0m\n\u001b[1;32m-> 1846\u001b[1;33m             verbose=verbose)\n\u001b[0m\u001b[0;32m   1847\u001b[0m \u001b[1;33m\u001b[0m\u001b[0m\n\u001b[0;32m   1848\u001b[0m \u001b[1;33m\u001b[0m\u001b[0m\n",
      "\u001b[1;32mC:\\ProgramData\\Anaconda3\\lib\\site-packages\\keras\\engine\\training_generator.py\u001b[0m in \u001b[0;36mpredict_generator\u001b[1;34m(model, generator, steps, callbacks, max_queue_size, workers, use_multiprocessing, verbose)\u001b[0m\n\u001b[0;32m    488\u001b[0m             \u001b[0mprogbar\u001b[0m \u001b[1;33m=\u001b[0m \u001b[0mProgbar\u001b[0m\u001b[1;33m(\u001b[0m\u001b[0mtarget\u001b[0m\u001b[1;33m=\u001b[0m\u001b[0msteps\u001b[0m\u001b[1;33m)\u001b[0m\u001b[1;33m\u001b[0m\u001b[1;33m\u001b[0m\u001b[0m\n\u001b[0;32m    489\u001b[0m \u001b[1;33m\u001b[0m\u001b[0m\n\u001b[1;32m--> 490\u001b[1;33m         \u001b[1;32mwhile\u001b[0m \u001b[0msteps_done\u001b[0m \u001b[1;33m<\u001b[0m \u001b[0msteps\u001b[0m\u001b[1;33m:\u001b[0m\u001b[1;33m\u001b[0m\u001b[1;33m\u001b[0m\u001b[0m\n\u001b[0m\u001b[0;32m    491\u001b[0m             \u001b[0mgenerator_output\u001b[0m \u001b[1;33m=\u001b[0m \u001b[0mnext\u001b[0m\u001b[1;33m(\u001b[0m\u001b[0moutput_generator\u001b[0m\u001b[1;33m)\u001b[0m\u001b[1;33m\u001b[0m\u001b[1;33m\u001b[0m\u001b[0m\n\u001b[0;32m    492\u001b[0m             \u001b[1;32mif\u001b[0m \u001b[0misinstance\u001b[0m\u001b[1;33m(\u001b[0m\u001b[0mgenerator_output\u001b[0m\u001b[1;33m,\u001b[0m \u001b[0mtuple\u001b[0m\u001b[1;33m)\u001b[0m\u001b[1;33m:\u001b[0m\u001b[1;33m\u001b[0m\u001b[1;33m\u001b[0m\u001b[0m\n",
      "\u001b[1;31mTypeError\u001b[0m: '<' not supported between instances of 'int' and 'DirectoryIterator'"
     ]
    }
   ],
   "source": []
  },
  {
   "cell_type": "markdown",
   "metadata": {},
   "source": [
    "## 5 Interface graphique du classificateur des panneaux routiers : "
   ]
  },
  {
   "cell_type": "code",
   "execution_count": null,
   "metadata": {},
   "outputs": [],
   "source": [
    "Nous allons maintenant créer une interface utilisateur graphique pour notre classificateur de\n",
    "panneaux routiers avec Tkinter. Tkinter est une boèote à outils d’interface graphique dans la\n",
    "bibliothéque python standard. Créez un nouveau fichier dans le dossier du projet et copiez le\n",
    "code ci-dessous. Enregistrez-le sous gui.py et vous pouvez exÃl’cuter le code en tapant python\n",
    "gui.py dans la ligne de commande.\n",
    "Dans ce fichier, nous avons d’abord chargé le modéle entraéoné ‘model_covid&ç.h5’ à\n",
    "l’aide de Keras. Et puis nous construisons l’interface graphique pour télécharger l’image et\n",
    "un bouton est utilisé pour classifier qui appelle la fonction classify (). La fonction classify ()\n",
    "convertit l’image en dimension de forme (1, 30, 30, 3). En effet, pour prédire le panneau de\n",
    "signalisation, nous devons fournir la mÃłme dimension que nous avons utilisée lors de la construction du modéle.\n",
    "Ensuite, nous prédisons la classe, le model.predict_classes (image) nous\n",
    "renvoie un nombre compris entre (0-42) qui reprÃl’sente la classe Ã ˘a laquelle il appartient. Nous\n",
    "utilisons le dictionnaire pour obtenir les informations sur la classe. Voici le code du fichier gui.py"
   ]
  },
  {
   "cell_type": "code",
   "execution_count": 46,
   "metadata": {},
   "outputs": [
    {
     "name": "stdout",
     "output_type": "stream",
     "text": [
      "(1, 224, 224, 3)\n"
     ]
    },
    {
     "name": "stderr",
     "output_type": "stream",
     "text": [
      "Exception in Tkinter callback\n",
      "Traceback (most recent call last):\n",
      "  File \"C:\\ProgramData\\Anaconda3\\lib\\tkinter\\__init__.py\", line 1705, in __call__\n",
      "    return self.func(*args)\n",
      "  File \"<ipython-input-46-0ebdb214aac2>\", line 40, in <lambda>\n",
      "    classify_b=Button(top,text=\"Classify Image\",command=lambda: classify(file_path),padx=10,pady=5)\n",
      "  File \"<ipython-input-46-0ebdb214aac2>\", line 34, in classify\n",
      "    sign = classes[pred+1]\n",
      "TypeError: unhashable type: 'numpy.ndarray'\n"
     ]
    }
   ],
   "source": [
    "## GU\n",
    "import tkinter as tk\n",
    "from tkinter import filedialog\n",
    "from tkinter import *\n",
    "from PIL import ImageTk, Image\n",
    "\n",
    "import numpy\n",
    "#load the trained model to classify sign\n",
    "from keras.models import load_model\n",
    "model = load_model('modelCovid19.h5')\n",
    "\n",
    "#\n",
    "classes = { 0 : 'Covid19' , \n",
    "            1 : 'Normal' ,\n",
    "            } \n",
    "                 \n",
    "#initialise GUI\n",
    "top=tk.Tk()\n",
    "top.geometry('800x600')\n",
    "top.title('Détection de Covid19')\n",
    "top.configure(background='#CDCDCD')\n",
    "\n",
    "label=Label(top,background='#CDCDCD', font=('arial',15,'bold'))\n",
    "sign_image = Label(top)\n",
    "\n",
    "def classify(file_path):\n",
    "    global label_packed\n",
    "    image = Image.open(file_path)\n",
    "    image = image.resize((224,224))\n",
    "    image = numpy.expand_dims(image, axis=0)\n",
    "    image = numpy.array(image)\n",
    "    print(image.shape)\n",
    "    pred = model.predict_classes([image])[0]\n",
    "    sign = classes[pred+1]\n",
    "    print(sign)\n",
    "    label.configure(foreground='#011638', text=sign) \n",
    "   \n",
    "\n",
    "def show_classify_button(file_path):\n",
    "    classify_b=Button(top,text=\"Classify Image\",command=lambda: classify(file_path),padx=10,pady=5)\n",
    "    classify_b.configure(background='#364156', foreground='white',font=('arial',10,'bold'))\n",
    "    classify_b.place(relx=0.79,rely=0.46)\n",
    "\n",
    "def upload_image():\n",
    "    try:\n",
    "        file_path=filedialog.askopenfilename()\n",
    "        uploaded=Image.open(file_path)\n",
    "        uploaded.thumbnail(((top.winfo_width()/2.25),(top.winfo_height()/2.25)))\n",
    "        im=ImageTk.PhotoImage(uploaded)\n",
    "        \n",
    "        sign_image.configure(image=im)\n",
    "        sign_image.image=im\n",
    "        label.configure(text='')\n",
    "        show_classify_button(file_path)\n",
    "    except:\n",
    "        pass\n",
    "\n",
    "upload=Button(top,text=\"Upload an image\",command=upload_image,padx=10,pady=5)\n",
    "upload.configure(background='#364156', foreground='white',font=('arial',10,'bold'))\n",
    "\n",
    "upload.pack(side=BOTTOM,pady=50)\n",
    "sign_image.pack(side=BOTTOM,expand=True)\n",
    "label.pack(side=BOTTOM,expand=True)\n",
    "heading = Label(top, text=\"Détection de Covid19\",pady=20, font=('arial',20,'bold'))\n",
    "heading.configure(background='#CDCDCD',foreground='#364156')\n",
    "heading.pack()\n",
    "top.mainloop()\n"
   ]
  },
  {
   "cell_type": "code",
   "execution_count": null,
   "metadata": {},
   "outputs": [],
   "source": []
  }
 ],
 "metadata": {
  "kernelspec": {
   "display_name": "Python 3",
   "language": "python",
   "name": "python3"
  },
  "language_info": {
   "codemirror_mode": {
    "name": "ipython",
    "version": 3
   },
   "file_extension": ".py",
   "mimetype": "text/x-python",
   "name": "python",
   "nbconvert_exporter": "python",
   "pygments_lexer": "ipython3",
   "version": "3.7.4"
  }
 },
 "nbformat": 4,
 "nbformat_minor": 4
}
